{
 "cells": [
  {
   "cell_type": "markdown",
   "metadata": {},
   "source": [
    "# Notebook for Code Exercises and Snippets from Machine Learning with Python Cookbook\n",
    "\n",
    "Not meant for original work. Just meant for me to write code snippets for muscle memory purposes + notes for understanding"
   ]
  },
  {
   "cell_type": "markdown",
   "metadata": {},
   "source": [
    "# Chapter 1"
   ]
  },
  {
   "cell_type": "code",
   "execution_count": 1,
   "metadata": {},
   "outputs": [
    {
     "name": "stdout",
     "output_type": "stream",
     "text": [
      "[1 2 3]\n",
      "[[1]\n",
      " [2]\n",
      " [3]]\n"
     ]
    }
   ],
   "source": [
    "import numpy as np \n",
    "\n",
    "vector_row = np.array([1, 2, 3])\n",
    "vector_column = np.array([[1],\n",
    "                            [2],\n",
    "                            [3]])\n",
    "\n",
    "print(vector_row)\n",
    "print(vector_column)\n"
   ]
  },
  {
   "cell_type": "code",
   "execution_count": 2,
   "metadata": {},
   "outputs": [
    {
     "name": "stdout",
     "output_type": "stream",
     "text": [
      "[[1 2]\n",
      " [1 2]\n",
      " [1 2]]\n"
     ]
    }
   ],
   "source": [
    "matrix = np.array([[1, 2],\n",
    "                    [1, 2],\n",
    "                    [1, 2]])\n",
    "\n",
    "print(matrix)"
   ]
  },
  {
   "cell_type": "code",
   "execution_count": 3,
   "metadata": {},
   "outputs": [
    {
     "name": "stdout",
     "output_type": "stream",
     "text": [
      "  (1, 1)\t1\n",
      "  (2, 0)\t3\n"
     ]
    }
   ],
   "source": [
    "import scipy\n",
    "from scipy import sparse\n",
    "\n",
    "matrix = np.array([[0, 0],\n",
    "                    [0, 1],\n",
    "                    [3, 0]])\n",
    "\n",
    "#creating a compressed sparse row matrix\n",
    "#compressed sparse row as the matrix only records the indexes of non zero values and just assumes rest of the values are 0's\n",
    "matrix_sparse = sparse.csr_matrix(matrix)\n",
    "\n",
    "print(matrix_sparse)"
   ]
  },
  {
   "cell_type": "code",
   "execution_count": 4,
   "metadata": {},
   "outputs": [
    {
     "name": "stdout",
     "output_type": "stream",
     "text": [
      "3\n",
      "5\n"
     ]
    }
   ],
   "source": [
    "vector = np.array([1, 2, 3, 4, 5, 6])\n",
    "\n",
    "matrix = np.array([[1,2,3],\n",
    "                    [4,5,6],\n",
    "                     [7,8,9]])\n",
    "\n",
    "#selecting second element of the vector\n",
    "print(vector[2] )\n",
    "\n",
    "#get matrix value by i, j index\n",
    "print(matrix[1, 1])\n",
    "\n",
    "#numpy arrays are zero indexed as well"
   ]
  },
  {
   "cell_type": "code",
   "execution_count": 5,
   "metadata": {},
   "outputs": [
    {
     "name": "stdout",
     "output_type": "stream",
     "text": [
      "(3, 4)\n",
      "12\n",
      "2\n"
     ]
    }
   ],
   "source": [
    "matrix = np.array([[1, 2, 3, 4],\n",
    "                  [5, 6, 7, 8],\n",
    "                  [9, 10, 11, 12]])\n",
    "\n",
    "print(matrix.shape)\n",
    "\n",
    "print(matrix.size)\n",
    "\n",
    "#how to get the number of dimensions in a matrix\n",
    "print(matrix.ndim)"
   ]
  },
  {
   "cell_type": "code",
   "execution_count": 6,
   "metadata": {},
   "outputs": [
    {
     "data": {
      "text/plain": [
       "array([[101, 102, 103],\n",
       "       [104, 105, 106],\n",
       "       [107, 108, 109]])"
      ]
     },
     "execution_count": 6,
     "metadata": {},
     "output_type": "execute_result"
    }
   ],
   "source": [
    "matrix = np.array([[1, 2, 3],\n",
    "                  [4, 5, 6],\n",
    "                  [7, 8, 9]])\n",
    "#creating a lambda expression that add's 100 to value\n",
    "add_100 = lambda x : x + 100\n",
    "\n",
    "vectorized_add_100 = np.vectorize(add_100)\n",
    "\n",
    "vectorized_add_100(matrix)\n",
    "\n",
    "#vectorize allows us to convert functions into ones that apply over all elements in an array or a slice of an array "
   ]
  },
  {
   "cell_type": "code",
   "execution_count": 7,
   "metadata": {},
   "outputs": [
    {
     "name": "stdout",
     "output_type": "stream",
     "text": [
      "The maximum is 9 and the minimum is 1\n"
     ]
    }
   ],
   "source": [
    "matrix = np.array([[1, 2, 3],\n",
    "                  [4, 5, 6],\n",
    "                  [7, 8, 9]])\n",
    "\n",
    "maxi = np.max(matrix)\n",
    "\n",
    "mini = np.min(matrix)\n",
    "\n",
    "print(\"The maximum is {} and the minimum is {}\".format(maxi, mini))"
   ]
  },
  {
   "cell_type": "code",
   "execution_count": 8,
   "metadata": {},
   "outputs": [
    {
     "name": "stdout",
     "output_type": "stream",
     "text": [
      "mean is 5.0 var is 6.666666666666667 std is 2.581988897471611\n"
     ]
    }
   ],
   "source": [
    "matrix = np.array([[1, 2, 3],\n",
    "                  [4, 5, 6],\n",
    "                  [7, 8, 9]])\n",
    "\n",
    "mean = np.mean(matrix)\n",
    "\n",
    "var = np.var(matrix)\n",
    "\n",
    "std = np.std(matrix)\n",
    "\n",
    "print(\"mean is {} var is {} std is {}\".format(mean, var , std))"
   ]
  },
  {
   "cell_type": "code",
   "execution_count": 9,
   "metadata": {},
   "outputs": [
    {
     "data": {
      "text/plain": [
       "array([[ 1,  2,  3,  4,  5,  6],\n",
       "       [ 7,  8,  9, 10, 11, 12]])"
      ]
     },
     "execution_count": 9,
     "metadata": {},
     "output_type": "execute_result"
    }
   ],
   "source": [
    "matrix = np.array([[1, 2, 3],\n",
    "                  [4, 5, 6],\n",
    "                  [7, 8, 9],\n",
    "                  [10, 11, 12]])\n",
    "\n",
    "reshaped_matrix = matrix.reshape(2, 6)\n",
    "\n",
    "reshaped_matrix"
   ]
  },
  {
   "cell_type": "code",
   "execution_count": 10,
   "metadata": {},
   "outputs": [
    {
     "data": {
      "text/plain": [
       "array([[1, 4, 7],\n",
       "       [2, 5, 8],\n",
       "       [3, 6, 9]])"
      ]
     },
     "execution_count": 10,
     "metadata": {},
     "output_type": "execute_result"
    }
   ],
   "source": [
    "matrix = np.array([[1, 2, 3],\n",
    "                  [4, 5, 6],\n",
    "                  [7, 8, 9]])\n",
    "\n",
    "transpose = matrix.T\n",
    "\n",
    "transpose\n",
    "\n",
    "#transposing is a common operation in linear algebra where the column and row indices of each element are swpaped. which is why you see\n",
    "# that elements with indices i, i do not end up changing positions in the transpose. Diagonal"
   ]
  },
  {
   "cell_type": "code",
   "execution_count": 11,
   "metadata": {},
   "outputs": [
    {
     "data": {
      "text/plain": [
       "array([1, 2, 3, 4, 5, 6, 7, 8, 9])"
      ]
     },
     "execution_count": 11,
     "metadata": {},
     "output_type": "execute_result"
    }
   ],
   "source": [
    "matrix = np.array([[1, 2, 3],\n",
    "                  [4, 5, 6],\n",
    "                  [7, 8, 9]])\n",
    "\n",
    "flattened_matrix = matrix.flatten()\n",
    "\n",
    "#transforms a matrix into one dimensional array\n",
    "#equivalent to the command matrix.reshape(1, -1)\n",
    "flattened_matrix"
   ]
  },
  {
   "cell_type": "code",
   "execution_count": 12,
   "metadata": {},
   "outputs": [
    {
     "name": "stdout",
     "output_type": "stream",
     "text": [
      "matrix rank is 2\n"
     ]
    }
   ],
   "source": [
    "matrix = np.array([[1, 2, 3],\n",
    "                  [4, 5, 6],\n",
    "                  [7, 8, 9]])\n",
    "                   \n",
    "rank = np.linalg.matrix_rank(matrix)\n",
    "\n",
    "#rank of a matrix is the dimensions of the vector space spanned by its columns or rows\n",
    "                   \n",
    "print(\"matrix rank is {}\".format(rank))"
   ]
  },
  {
   "cell_type": "code",
   "execution_count": 13,
   "metadata": {},
   "outputs": [],
   "source": [
    "matrix = np.array([[1, 2, 3],\n",
    "                  [4, 5, 6],\n",
    "                  [7, 8, 9]])\n",
    "\n",
    "#returns the determinaant of the matrix\n",
    "det = np.linalg.det(matrix)"
   ]
  },
  {
   "cell_type": "code",
   "execution_count": 14,
   "metadata": {},
   "outputs": [
    {
     "data": {
      "text/plain": [
       "array([1, 4, 9])"
      ]
     },
     "execution_count": 14,
     "metadata": {},
     "output_type": "execute_result"
    }
   ],
   "source": [
    "matrix = np.array([[1, 2, 3],\n",
    "                    [2, 4, 6],\n",
    "                   [3, 8, 9]])\n",
    "\n",
    "#returns diagonal elements\n",
    "matrix.diagonal()"
   ]
  },
  {
   "cell_type": "code",
   "execution_count": 15,
   "metadata": {},
   "outputs": [
    {
     "data": {
      "text/plain": [
       "15"
      ]
     },
     "execution_count": 15,
     "metadata": {},
     "output_type": "execute_result"
    }
   ],
   "source": [
    "matrix = np.array([[1, 2, 3],\n",
    "                  [4, 5, 6],\n",
    "                  [7, 8, 9]])\n",
    "#calculates trace of a matrix defined to be hte sum of the elements on the main diagonal\n",
    "#can also calculate by doing a sum on the diagonal of hte matrix ie sum(matrix.diagonal())\n",
    "matrix.trace()"
   ]
  },
  {
   "cell_type": "code",
   "execution_count": 16,
   "metadata": {},
   "outputs": [
    {
     "name": "stdout",
     "output_type": "stream",
     "text": [
      "[13.55075847  0.74003145 -3.29078992]\n",
      "[[-0.17622017 -0.96677403 -0.53373322]\n",
      " [-0.435951    0.2053623  -0.64324848]\n",
      " [-0.88254925  0.15223105  0.54896288]]\n"
     ]
    }
   ],
   "source": [
    "matrix = np.array([[1, -1, 3],\n",
    "                  [1, 1, 6],\n",
    "                  [3, 8, 9]])\n",
    "\n",
    "eigenvalues , eigenvectors = np.linalg.eig(matrix)\n",
    "\n",
    "print(eigenvalues)\n",
    "\n",
    "print(eigenvectors)\n",
    "\n",
    "#eigenvectors are vectors tht when a linear transformation by that matrix is applied the vector changes only in scale not in direcion\n"
   ]
  },
  {
   "cell_type": "code",
   "execution_count": 17,
   "metadata": {},
   "outputs": [
    {
     "name": "stdout",
     "output_type": "stream",
     "text": [
      "32\n",
      "32\n"
     ]
    }
   ],
   "source": [
    "vector_a = np.array([1, 2, 3])\n",
    "\n",
    "vector_b = np.array([4, 5, 6])\n",
    "\n",
    "dot = np.dot(vector_a, vector_b)\n",
    "\n",
    "print(dot)\n",
    "\n",
    "#alternative way of doing vector multiplication\n",
    "dot_py3 = vector_a @ vector_b\n",
    "\n",
    "print(dot_py3)"
   ]
  },
  {
   "cell_type": "code",
   "execution_count": 18,
   "metadata": {},
   "outputs": [
    {
     "name": "stdout",
     "output_type": "stream",
     "text": [
      "add is [[ 2  4  2]\n",
      " [ 2  4  2]\n",
      " [ 2  4 10]] \n",
      " sub is [[ 0 -2  0]\n",
      " [ 0 -2  0]\n",
      " [ 0 -2 -6]]\n"
     ]
    }
   ],
   "source": [
    "matrix_a = np.array([[1, 1, 1],\n",
    "                    [1, 1, 1],\n",
    "                    [1, 1, 2]])\n",
    "\n",
    "matrix_b = np.array([[1, 3, 1],\n",
    "                    [1, 3, 1],\n",
    "                    [1, 3, 8]])\n",
    "\n",
    "add = np.add(matrix_a, matrix_b)\n",
    "\n",
    "sub = np.subtract(matrix_a, matrix_b)\n",
    "\n",
    "print(\"add is {} \\n sub is {}\".format(add, sub))\n",
    "\n",
    "#can also do matrix_a + matrix_b"
   ]
  },
  {
   "cell_type": "code",
   "execution_count": 19,
   "metadata": {},
   "outputs": [
    {
     "name": "stdout",
     "output_type": "stream",
     "text": [
      "mult is [[2 5]\n",
      " [3 7]] \n",
      " mult_alt is [[2 5]\n",
      " [3 7]] \n",
      " mult_element_wise is [[1 3]\n",
      " [1 4]]\n",
      "\n"
     ]
    }
   ],
   "source": [
    "matrix_a = np.array([[1, 1],\n",
    "                    [1, 2]])\n",
    "\n",
    "matrix_b = np.array([[1, 3],\n",
    "                    [1, 2]])\n",
    "\n",
    "mult = np.dot(matrix_a, matrix_b)\n",
    "mult_alt = matrix_a @ matrix_b\n",
    "mult_element_wise = matrix_a * matrix_b\n",
    "\n",
    "print (\"mult is {} \\n mult_alt is {} \\n mult_element_wise is {}\\n\".format(mult, mult_alt, mult_element_wise))"
   ]
  },
  {
   "cell_type": "code",
   "execution_count": 20,
   "metadata": {},
   "outputs": [
    {
     "name": "stdout",
     "output_type": "stream",
     "text": [
      "[[-1.66666667  1.33333333]\n",
      " [ 0.66666667 -0.33333333]]\n"
     ]
    }
   ],
   "source": [
    "matrix = np.array([[1, 4],\n",
    "                  [2, 5]])\n",
    "\n",
    "inv = np.linalg.inv(matrix)\n",
    "\n",
    "print(inv)"
   ]
  },
  {
   "cell_type": "code",
   "execution_count": 21,
   "metadata": {},
   "outputs": [
    {
     "data": {
      "text/plain": [
       "array([1.47997717, 1.3927848 , 1.83607876])"
      ]
     },
     "execution_count": 21,
     "metadata": {},
     "output_type": "execute_result"
    }
   ],
   "source": [
    "np.random.seed(0)\n",
    "\n",
    "#generates 3 random float values between 0 and 1\n",
    "np.random.random(3)\n",
    "\n",
    "#generates 3 random ints between 1 and 10\n",
    "np.random.randint(0, 11, 3)\n",
    "\n",
    "#draws 3 random numbers from a normal distribution with mean 0 and std deviation 1.0\n",
    "np.random.normal(0.0, 1.0, 3)\n",
    "\n",
    "#draws 3 numbers from a logistic distribution with mean 0 and scale 1\n",
    "np.random.logistic(0.0, 1.0, 3)\n",
    "\n",
    "#draws 3 numbers greater than or equal to 1.0 and less than 2.0\n",
    "np.random.uniform(1.0, 2.0, 3)"
   ]
  },
  {
   "cell_type": "markdown",
   "metadata": {},
   "source": [
    "# Chapter 2\n",
    "## Loading Data"
   ]
  },
  {
   "cell_type": "code",
   "execution_count": 22,
   "metadata": {},
   "outputs": [
    {
     "data": {
      "text/plain": [
       "array([ 0.,  0.,  5., 13.,  9.,  1.,  0.,  0.,  0.,  0., 13., 15., 10.,\n",
       "       15.,  5.,  0.,  0.,  3., 15.,  2.,  0., 11.,  8.,  0.,  0.,  4.,\n",
       "       12.,  0.,  0.,  8.,  8.,  0.,  0.,  5.,  8.,  0.,  0.,  9.,  8.,\n",
       "        0.,  0.,  4., 11.,  0.,  1., 12.,  7.,  0.,  0.,  2., 14.,  5.,\n",
       "       10., 12.,  0.,  0.,  0.,  0.,  6., 13., 10.,  0.,  0.,  0.])"
      ]
     },
     "execution_count": 22,
     "metadata": {},
     "output_type": "execute_result"
    }
   ],
   "source": [
    "#Loading preexisting sample dataset\n",
    "from sklearn import datasets\n",
    "\n",
    "digits = datasets.load_digits()\n",
    "\n",
    "features = digits.data\n",
    "\n",
    "targets = digits.target\n",
    "\n",
    "features[0]\n",
    "\n",
    "#other examples of good loadable sets\n",
    "#load_boston()\n",
    "#load_iris()\n",
    "#load_digits()\n"
   ]
  },
  {
   "cell_type": "code",
   "execution_count": 23,
   "metadata": {},
   "outputs": [],
   "source": [
    "#Creationg simulated data. 3 useful methods\n",
    "\n",
    "#simjulated data with linear regression\n",
    "\n",
    "from sklearn.datasets import make_regression\n",
    "\n",
    "#returns a feature float matrix and target vector of float values and coefficient matrix\n",
    "features, target, coefficients = make_regression(n_samples = 100,\n",
    "                                                n_features = 3, #num features\n",
    "                                                n_informative = 3, #num of informative (features used to build the model) features used to build the model\n",
    "                                                n_targets = 1, #dimension of label / target\n",
    "                                                noise = 0.0, #standard deviation of gaussian noise applied to taget\n",
    "                                                coef = True, #if coef is set to true the coefficients of the underlying model are returned\n",
    "                                                random_state = 1)\n",
    "\n",
    "#simulated data for classification\n",
    "from sklearn.datasets import make_classification\n",
    "\n",
    "#returns a feature float matrix but a target vector of integers\n",
    "features, target = make_classification(n_samples = 100,\n",
    "                                      n_features = 3,\n",
    "                                      n_informative = 3, \n",
    "                                      n_redundant = 0, #number of redundant features aka features that are generated as linear combinations of the other features \n",
    "                                      n_classes = 2, #num classes/ labels \n",
    "                                      weights = [.25, .75], #proportion of samples attached to each class\n",
    "                                      random_state = 1)  #reproducible output\n",
    "\n",
    "#if n_informative is less than the total number of features than the resulting data set will have redundant features that can be\n",
    "#identified through feature selection technique\n",
    "\n",
    "#weights parameter allows us to simulate datasets with imbalanced classes\n",
    "\n",
    "from sklearn.datasets import make_blobs\n",
    "\n",
    "#returns a features float matrix but a target vector of integers\n",
    "features, target = make_blobs(n_samples = 100,\n",
    "                              n_features = 2,\n",
    "                              centers = 3, #number of centroids / fixed center lcoations\n",
    "                              cluster_std = 0.5, #std dev of one cluster  \n",
    "                              shuffle = True,\n",
    "                              random_state = 1)"
   ]
  },
  {
   "cell_type": "code",
   "execution_count": 24,
   "metadata": {},
   "outputs": [
    {
     "data": {
      "text/html": [
       "<div>\n",
       "<style scoped>\n",
       "    .dataframe tbody tr th:only-of-type {\n",
       "        vertical-align: middle;\n",
       "    }\n",
       "\n",
       "    .dataframe tbody tr th {\n",
       "        vertical-align: top;\n",
       "    }\n",
       "\n",
       "    .dataframe thead th {\n",
       "        text-align: right;\n",
       "    }\n",
       "</style>\n",
       "<table border=\"1\" class=\"dataframe\">\n",
       "  <thead>\n",
       "    <tr style=\"text-align: right;\">\n",
       "      <th></th>\n",
       "      <th>Year</th>\n",
       "      <th>City</th>\n",
       "      <th>Sport</th>\n",
       "      <th>Discipline</th>\n",
       "      <th>NOC</th>\n",
       "      <th>Event</th>\n",
       "      <th>Event gender</th>\n",
       "      <th>Medal</th>\n",
       "    </tr>\n",
       "  </thead>\n",
       "  <tbody>\n",
       "    <tr>\n",
       "      <th>0</th>\n",
       "      <td>1924</td>\n",
       "      <td>Chamonix</td>\n",
       "      <td>Skating</td>\n",
       "      <td>Figure skating</td>\n",
       "      <td>AUT</td>\n",
       "      <td>individual</td>\n",
       "      <td>M</td>\n",
       "      <td>Silver</td>\n",
       "    </tr>\n",
       "    <tr>\n",
       "      <th>1</th>\n",
       "      <td>1924</td>\n",
       "      <td>Chamonix</td>\n",
       "      <td>Skating</td>\n",
       "      <td>Figure skating</td>\n",
       "      <td>AUT</td>\n",
       "      <td>individual</td>\n",
       "      <td>W</td>\n",
       "      <td>Gold</td>\n",
       "    </tr>\n",
       "  </tbody>\n",
       "</table>\n",
       "</div>"
      ],
      "text/plain": [
       "   Year      City    Sport      Discipline  NOC       Event Event gender  \\\n",
       "0  1924  Chamonix  Skating  Figure skating  AUT  individual            M   \n",
       "1  1924  Chamonix  Skating  Figure skating  AUT  individual            W   \n",
       "\n",
       "    Medal  \n",
       "0  Silver  \n",
       "1    Gold  "
      ]
     },
     "execution_count": 24,
     "metadata": {},
     "output_type": "execute_result"
    }
   ],
   "source": [
    "import pandas as pd\n",
    "\n",
    "url = 'http://winterolympicsmedals.com/medals.csv'\n",
    "\n",
    "dataframe = pd.read_csv(url)\n",
    "\n",
    "dataframe.head(2)\n",
    "\n",
    "#in this block there are two ways to read a csv from url\n",
    "\n",
    "#import csv\n",
    "#import urllib.request\n",
    "\n",
    "#response = urllib.request.urlopen(url)\n",
    "#lines = [l.decode('utf-8') for l in response.readlines()]\n",
    "#cr = csv.reader(lines)\n",
    "\n",
    "#for row in cr:\n",
    "    #print(row)\n",
    "    #break"
   ]
  },
  {
   "cell_type": "code",
   "execution_count": 25,
   "metadata": {},
   "outputs": [],
   "source": [
    "#url = 'https://fake_url.com/simulated_excel'\n",
    "\n",
    "#df = pd.read_excel(url, sheetname=0, header=1)\n",
    "#sheetname 0 means get first sheetname, set it to none for all, header = 1 means index of row for header"
   ]
  },
  {
   "cell_type": "code",
   "execution_count": 26,
   "metadata": {},
   "outputs": [],
   "source": [
    "#url = 'https://tinyurl.com/simulated_json'\n",
    "\n",
    "#df = pd.read_json(url, orient = 'columns')\n",
    "\n",
    "#orient = column defines the json format which will be {column -> {index -> val}}"
   ]
  },
  {
   "cell_type": "code",
   "execution_count": 27,
   "metadata": {},
   "outputs": [],
   "source": [
    "#from sqlalchemy import create_engine\n",
    "\n",
    "#create connection to db\n",
    "#database_connection = create_engine('sqlite:///sample.db')\n",
    "\n",
    "#an example on how to set up an sql connection and then query the data base via pandas\n",
    "#dataframe = pd.read_sql_query('SELECT * FROM data', database_connection)\n",
    "\n",
    "#dataframe.head(2)"
   ]
  },
  {
   "cell_type": "markdown",
   "metadata": {},
   "source": [
    "# Chapter 3\n",
    "## Data Wrangling"
   ]
  },
  {
   "cell_type": "code",
   "execution_count": 28,
   "metadata": {},
   "outputs": [
    {
     "data": {
      "text/html": [
       "<div>\n",
       "<style scoped>\n",
       "    .dataframe tbody tr th:only-of-type {\n",
       "        vertical-align: middle;\n",
       "    }\n",
       "\n",
       "    .dataframe tbody tr th {\n",
       "        vertical-align: top;\n",
       "    }\n",
       "\n",
       "    .dataframe thead th {\n",
       "        text-align: right;\n",
       "    }\n",
       "</style>\n",
       "<table border=\"1\" class=\"dataframe\">\n",
       "  <thead>\n",
       "    <tr style=\"text-align: right;\">\n",
       "      <th></th>\n",
       "      <th>survived</th>\n",
       "      <th>sex</th>\n",
       "      <th>age</th>\n",
       "      <th>n_siblings_spouses</th>\n",
       "      <th>parch</th>\n",
       "      <th>fare</th>\n",
       "      <th>class</th>\n",
       "      <th>deck</th>\n",
       "      <th>embark_town</th>\n",
       "      <th>alone</th>\n",
       "    </tr>\n",
       "  </thead>\n",
       "  <tbody>\n",
       "    <tr>\n",
       "      <th>0</th>\n",
       "      <td>0</td>\n",
       "      <td>male</td>\n",
       "      <td>22.0</td>\n",
       "      <td>1</td>\n",
       "      <td>0</td>\n",
       "      <td>7.2500</td>\n",
       "      <td>Third</td>\n",
       "      <td>unknown</td>\n",
       "      <td>Southampton</td>\n",
       "      <td>n</td>\n",
       "    </tr>\n",
       "    <tr>\n",
       "      <th>1</th>\n",
       "      <td>1</td>\n",
       "      <td>female</td>\n",
       "      <td>38.0</td>\n",
       "      <td>1</td>\n",
       "      <td>0</td>\n",
       "      <td>71.2833</td>\n",
       "      <td>First</td>\n",
       "      <td>C</td>\n",
       "      <td>Cherbourg</td>\n",
       "      <td>n</td>\n",
       "    </tr>\n",
       "    <tr>\n",
       "      <th>2</th>\n",
       "      <td>1</td>\n",
       "      <td>female</td>\n",
       "      <td>26.0</td>\n",
       "      <td>0</td>\n",
       "      <td>0</td>\n",
       "      <td>7.9250</td>\n",
       "      <td>Third</td>\n",
       "      <td>unknown</td>\n",
       "      <td>Southampton</td>\n",
       "      <td>y</td>\n",
       "    </tr>\n",
       "    <tr>\n",
       "      <th>3</th>\n",
       "      <td>1</td>\n",
       "      <td>female</td>\n",
       "      <td>35.0</td>\n",
       "      <td>1</td>\n",
       "      <td>0</td>\n",
       "      <td>53.1000</td>\n",
       "      <td>First</td>\n",
       "      <td>C</td>\n",
       "      <td>Southampton</td>\n",
       "      <td>n</td>\n",
       "    </tr>\n",
       "    <tr>\n",
       "      <th>4</th>\n",
       "      <td>0</td>\n",
       "      <td>male</td>\n",
       "      <td>28.0</td>\n",
       "      <td>0</td>\n",
       "      <td>0</td>\n",
       "      <td>8.4583</td>\n",
       "      <td>Third</td>\n",
       "      <td>unknown</td>\n",
       "      <td>Queenstown</td>\n",
       "      <td>y</td>\n",
       "    </tr>\n",
       "  </tbody>\n",
       "</table>\n",
       "</div>"
      ],
      "text/plain": [
       "   survived     sex   age  n_siblings_spouses  parch     fare  class     deck  \\\n",
       "0         0    male  22.0                   1      0   7.2500  Third  unknown   \n",
       "1         1  female  38.0                   1      0  71.2833  First        C   \n",
       "2         1  female  26.0                   0      0   7.9250  Third  unknown   \n",
       "3         1  female  35.0                   1      0  53.1000  First        C   \n",
       "4         0    male  28.0                   0      0   8.4583  Third  unknown   \n",
       "\n",
       "   embark_town alone  \n",
       "0  Southampton     n  \n",
       "1    Cherbourg     n  \n",
       "2  Southampton     y  \n",
       "3  Southampton     n  \n",
       "4   Queenstown     y  "
      ]
     },
     "execution_count": 28,
     "metadata": {},
     "output_type": "execute_result"
    }
   ],
   "source": [
    "url = 'https://storage.googleapis.com/tf-datasets/titanic/train.csv'\n",
    "\n",
    "df = pd.read_csv(url)\n",
    "#each row is an observation\n",
    "#each column is a feature\n",
    "#each column contains a name to select it with \n",
    "#each row contains an index number\n",
    "\n",
    "df.head(5)"
   ]
  },
  {
   "cell_type": "code",
   "execution_count": 29,
   "metadata": {},
   "outputs": [
    {
     "data": {
      "text/html": [
       "<div>\n",
       "<style scoped>\n",
       "    .dataframe tbody tr th:only-of-type {\n",
       "        vertical-align: middle;\n",
       "    }\n",
       "\n",
       "    .dataframe tbody tr th {\n",
       "        vertical-align: top;\n",
       "    }\n",
       "\n",
       "    .dataframe thead th {\n",
       "        text-align: right;\n",
       "    }\n",
       "</style>\n",
       "<table border=\"1\" class=\"dataframe\">\n",
       "  <thead>\n",
       "    <tr style=\"text-align: right;\">\n",
       "      <th></th>\n",
       "      <th>Name</th>\n",
       "      <th>age</th>\n",
       "      <th>Driver</th>\n",
       "    </tr>\n",
       "  </thead>\n",
       "  <tbody>\n",
       "    <tr>\n",
       "      <th>0</th>\n",
       "      <td>Nikhilesh</td>\n",
       "      <td>25</td>\n",
       "      <td>True</td>\n",
       "    </tr>\n",
       "    <tr>\n",
       "      <th>1</th>\n",
       "      <td>Kashyap</td>\n",
       "      <td>26</td>\n",
       "      <td>False</td>\n",
       "    </tr>\n",
       "  </tbody>\n",
       "</table>\n",
       "</div>"
      ],
      "text/plain": [
       "        Name  age  Driver\n",
       "0  Nikhilesh   25    True\n",
       "1    Kashyap   26   False"
      ]
     },
     "execution_count": 29,
     "metadata": {},
     "output_type": "execute_result"
    }
   ],
   "source": [
    "df = pd.DataFrame()\n",
    "\n",
    "df['Name'] = ['Nikhilesh', 'Kashyap']\n",
    "df['age'] = [25, 26]\n",
    "df['Driver'] = [True, False]\n",
    "\n",
    "df"
   ]
  },
  {
   "cell_type": "code",
   "execution_count": 30,
   "metadata": {
    "scrolled": true
   },
   "outputs": [
    {
     "name": "stdout",
     "output_type": "stream",
     "text": [
      "         survived         age  n_siblings_spouses       parch        fare\n",
      "count  627.000000  627.000000          627.000000  627.000000  627.000000\n",
      "mean     0.387560   29.631308            0.545455    0.379585   34.385399\n",
      "std      0.487582   12.511818            1.151090    0.792999   54.597730\n",
      "min      0.000000    0.750000            0.000000    0.000000    0.000000\n",
      "25%      0.000000   23.000000            0.000000    0.000000    7.895800\n",
      "50%      0.000000   28.000000            0.000000    0.000000   15.045800\n",
      "75%      1.000000   35.000000            1.000000    0.000000   31.387500\n",
      "max      1.000000   80.000000            8.000000    5.000000  512.329200\n",
      "(627, 10)\n"
     ]
    }
   ],
   "source": [
    "df = pd.read_csv(url)\n",
    "\n",
    "df.head(2)\n",
    "\n",
    "print(df.describe())\n",
    "\n",
    "print(df.shape)"
   ]
  },
  {
   "cell_type": "code",
   "execution_count": 36,
   "metadata": {
    "scrolled": true
   },
   "outputs": [
    {
     "name": "stdout",
     "output_type": "stream",
     "text": [
      "survived                        0\n",
      "sex                          male\n",
      "age                            22\n",
      "n_siblings_spouses              1\n",
      "parch                           0\n",
      "fare                         7.25\n",
      "class                       Third\n",
      "deck                      unknown\n",
      "embark_town           Southampton\n",
      "alone                           n\n",
      "Name: 0, dtype: object\n",
      "\n",
      "\n",
      "   survived     sex   age  n_siblings_spouses  parch     fare  class     deck  \\\n",
      "1         1  female  38.0                   1      0  71.2833  First        C   \n",
      "2         1  female  26.0                   0      0   7.9250  Third  unknown   \n",
      "3         1  female  35.0                   1      0  53.1000  First        C   \n",
      "\n",
      "   embark_town alone  \n",
      "1    Cherbourg     n  \n",
      "2  Southampton     y  \n",
      "3  Southampton     n  \n",
      "\n",
      "\n",
      "        survived     sex   age  n_siblings_spouses  parch     fare   class  \\\n",
      "sex                                                                          \n",
      "female         1  female  38.0                   1      0  71.2833   First   \n",
      "female         1  female  26.0                   0      0   7.9250   Third   \n",
      "female         1  female  35.0                   1      0  53.1000   First   \n",
      "female         1  female  27.0                   0      2  11.1333   Third   \n",
      "female         1  female  14.0                   1      0  30.0708  Second   \n",
      "...          ...     ...   ...                 ...    ...      ...     ...   \n",
      "female         1  female  28.0                   1      0  24.0000  Second   \n",
      "female         1  female  15.0                   0      0   7.2250   Third   \n",
      "female         0  female  22.0                   0      0  10.5167   Third   \n",
      "female         1  female  19.0                   0      0  30.0000   First   \n",
      "female         0  female  28.0                   1      2  23.4500   Third   \n",
      "\n",
      "           deck  embark_town alone  \n",
      "sex                                 \n",
      "female        C    Cherbourg     n  \n",
      "female  unknown  Southampton     y  \n",
      "female        C  Southampton     n  \n",
      "female  unknown  Southampton     n  \n",
      "female  unknown    Cherbourg     n  \n",
      "...         ...          ...   ...  \n",
      "female  unknown    Cherbourg     n  \n",
      "female  unknown    Cherbourg     y  \n",
      "female  unknown  Southampton     y  \n",
      "female        B  Southampton     y  \n",
      "female  unknown  Southampton     n  \n",
      "\n",
      "[217 rows x 10 columns]\n"
     ]
    }
   ],
   "source": [
    "#df = pd.read_csv(url)\n",
    "print(df.iloc[0]) #selecting first row\n",
    "print('\\n')\n",
    "print(df.iloc[1: 4]) #selecting second, third,fourthrow,its inclusive : exclusive)\n",
    "df = df.set_index(df['sex'])\n",
    "print('\\n')\n",
    "print(df.loc['female'])\n",
    "\n",
    "#loc is a useful function when the index of the data frame is a lebl\n",
    "#iloc is useful when looking for the position in the dataframe "
   ]
  },
  {
   "cell_type": "code",
   "execution_count": null,
   "metadata": {},
   "outputs": [],
   "source": [
    "df.columns"
   ]
  },
  {
   "cell_type": "code",
   "execution_count": null,
   "metadata": {},
   "outputs": [],
   "source": [
    "df = pd.read_csv(url)\n",
    "\n",
    "df[df['sex'] == 'female'].head(2)\n",
    "\n",
    "df[(df['sex'] == 'female') & (df['age'] >= 50)]\n",
    "\n",
    "#how to conditionally filter on a dataframe based on an expression"
   ]
  },
  {
   "cell_type": "code",
   "execution_count": null,
   "metadata": {},
   "outputs": [],
   "source": [
    "#Uuse panda.sreplace method to replace values easily in columns\n",
    "\n",
    "df = pd.read_csv(url)\n",
    "\n",
    "#replace single value\n",
    "df['sex'].replace(\"female\", \"Woman\").head(2)\n",
    "\n",
    "#replacing contents of first array by contents of second\n",
    "df['sex'].replace([\"female\", \"male\"], [\"man\", \"woman\"]).head(2)"
   ]
  },
  {
   "cell_type": "code",
   "execution_count": null,
   "metadata": {},
   "outputs": [],
   "source": [
    "df = pd.read_csv(url)\n",
    "df.rename(columns={'class' : 'Passenger Class'}).head(2)\n",
    "\n",
    "df = pd.read_csv(url)\n",
    "df.rename(columns={'class' : 'Passenger Class', 'sex' : 'Gender'}).head(2)\n",
    "# can also rename by passing in a dictgionary to change multiple column names at once"
   ]
  },
  {
   "cell_type": "code",
   "execution_count": null,
   "metadata": {
    "scrolled": true
   },
   "outputs": [],
   "source": [
    "#descriptive statistics\n",
    "print(\"Max is {}\".format(df['age'].max()))\n",
    "print(\"Min is {}\".format(df['age'].min()))\n",
    "print(\"Mean is {}\".format(df['age'].mean()))\n",
    "print(\"Sum is {}\".format(df['age'].sum()))\n",
    "print(\"Count is {}\".format(df['age'].count()))\n",
    "\n",
    "#other descriptive statistics offered are .var(), .std() (standard ddeviation), .kurt() (kurtosis), .skew(), .sem() standard error of the mean,\n",
    "#.mode(), .median(), and a bunch of others"
   ]
  },
  {
   "cell_type": "code",
   "execution_count": null,
   "metadata": {},
   "outputs": [],
   "source": [
    "df['sex'].unique()"
   ]
  },
  {
   "cell_type": "code",
   "execution_count": null,
   "metadata": {},
   "outputs": [],
   "source": [
    "df = pd.read_csv(url)\n",
    "print(\"Unique count is {}\".format(df['sex'].unique()))\n",
    "print(\"\\n Unique value counts are {}\".format(df['sex'].value_counts()))"
   ]
  },
  {
   "cell_type": "code",
   "execution_count": null,
   "metadata": {},
   "outputs": [],
   "source": [
    "df = pd.read_csv(url)\n",
    "df[df['age'].isnull()].head(2) #selects for all observations indexed by age where age is null\n",
    "\n",
    "#to replace values with nan need to do import numpy as np then do\n",
    "#df['Sex'] = df['Sex'].replace('male', np.nan)\n",
    "\n",
    "#can load in a dataset while defining na values already\n",
    "#df = pd.read_csv(url, na_values=[np.nan, 'NONE', -999])"
   ]
  },
  {
   "cell_type": "code",
   "execution_count": null,
   "metadata": {},
   "outputs": [],
   "source": [
    "df = pd.read_csv(url)\n",
    "\n",
    "#dataframe.drop('Age', axis=1).head(2)\n",
    "#dataframe.drop(['Age', 'Sex'], axis=1).head(2)\n",
    "#dataframe.drop(dataframe.columns[1], axis=1).head(2) #used when column doesnt have a name we can drop it by its index in the columns array"
   ]
  },
  {
   "cell_type": "code",
   "execution_count": null,
   "metadata": {},
   "outputs": [],
   "source": [
    "df = pd.read_csv(url)\n",
    "\n",
    "df[df['sex'] != 'male'].head(2) #use conditional expression to delete rows\n",
    "#can also use a conditional to delete a single row by matchihnga  unique value\n",
    "\n",
    "#df[df['fare'] != 71.2833]\n",
    "\n",
    "#can also delete by row index\n",
    "#df[df.index != 0].head(2)"
   ]
  },
  {
   "cell_type": "code",
   "execution_count": 44,
   "metadata": {
    "scrolled": false
   },
   "outputs": [
    {
     "name": "stdout",
     "output_type": "stream",
     "text": [
      "Number of rows in original 627\n",
      "Number of rows in dupe dropped 558\n",
      "Number of rows in dupe dropped by a more specific condition 2\n"
     ]
    },
    {
     "data": {
      "text/html": [
       "<div>\n",
       "<style scoped>\n",
       "    .dataframe tbody tr th:only-of-type {\n",
       "        vertical-align: middle;\n",
       "    }\n",
       "\n",
       "    .dataframe tbody tr th {\n",
       "        vertical-align: top;\n",
       "    }\n",
       "\n",
       "    .dataframe thead th {\n",
       "        text-align: right;\n",
       "    }\n",
       "</style>\n",
       "<table border=\"1\" class=\"dataframe\">\n",
       "  <thead>\n",
       "    <tr style=\"text-align: right;\">\n",
       "      <th></th>\n",
       "      <th>survived</th>\n",
       "      <th>sex</th>\n",
       "      <th>age</th>\n",
       "      <th>n_siblings_spouses</th>\n",
       "      <th>parch</th>\n",
       "      <th>fare</th>\n",
       "      <th>class</th>\n",
       "      <th>deck</th>\n",
       "      <th>embark_town</th>\n",
       "      <th>alone</th>\n",
       "    </tr>\n",
       "  </thead>\n",
       "  <tbody>\n",
       "    <tr>\n",
       "      <th>625</th>\n",
       "      <td>0</td>\n",
       "      <td>female</td>\n",
       "      <td>28.0</td>\n",
       "      <td>1</td>\n",
       "      <td>2</td>\n",
       "      <td>23.45</td>\n",
       "      <td>Third</td>\n",
       "      <td>unknown</td>\n",
       "      <td>Southampton</td>\n",
       "      <td>n</td>\n",
       "    </tr>\n",
       "    <tr>\n",
       "      <th>626</th>\n",
       "      <td>0</td>\n",
       "      <td>male</td>\n",
       "      <td>32.0</td>\n",
       "      <td>0</td>\n",
       "      <td>0</td>\n",
       "      <td>7.75</td>\n",
       "      <td>Third</td>\n",
       "      <td>unknown</td>\n",
       "      <td>Queenstown</td>\n",
       "      <td>y</td>\n",
       "    </tr>\n",
       "  </tbody>\n",
       "</table>\n",
       "</div>"
      ],
      "text/plain": [
       "     survived     sex   age  n_siblings_spouses  parch   fare  class     deck  \\\n",
       "625         0  female  28.0                   1      2  23.45  Third  unknown   \n",
       "626         0    male  32.0                   0      0   7.75  Third  unknown   \n",
       "\n",
       "     embark_town alone  \n",
       "625  Southampton     n  \n",
       "626   Queenstown     y  "
      ]
     },
     "execution_count": 44,
     "metadata": {},
     "output_type": "execute_result"
    }
   ],
   "source": [
    "df = pd.read_csv(url)\n",
    "\n",
    "df.drop_duplicates().head(15)\n",
    "\n",
    "print(\"Number of rows in original {}\".format(len(df)))\n",
    "print(\"Number of rows in dupe dropped {}\".format(len(df.drop_duplicates())))\n",
    "\n",
    "#only drops duplicates by dropping rows that match perfectly across all columns\n",
    "\n",
    "print(\"Number of rows in dupe dropped by a more specific condition {}\".format(len(df.drop_duplicates(subset=['sex']))))\n",
    "\n",
    "#drop duplicates defaults ot keeping the first occurrence of a duplicated row and dropping the last\n",
    "#could also add parameter keep and set it = to 'last' in order to keep the last occurrence\n",
    "df.drop_duplicates(subset=['sex'], keep='last')\n",
    "\n",
    "#there is also a duplicated method which returns a boolean series denoting if each row is a duplicate or not"
   ]
  },
  {
   "cell_type": "code",
   "execution_count": 46,
   "metadata": {},
   "outputs": [
    {
     "name": "stdout",
     "output_type": "stream",
     "text": [
      "<class 'pandas.core.frame.DataFrame'>\n",
      "RangeIndex: 627 entries, 0 to 626\n",
      "Data columns (total 10 columns):\n",
      " #   Column              Non-Null Count  Dtype  \n",
      "---  ------              --------------  -----  \n",
      " 0   survived            627 non-null    int64  \n",
      " 1   sex                 627 non-null    object \n",
      " 2   age                 627 non-null    float64\n",
      " 3   n_siblings_spouses  627 non-null    int64  \n",
      " 4   parch               627 non-null    int64  \n",
      " 5   fare                627 non-null    float64\n",
      " 6   class               627 non-null    object \n",
      " 7   deck                627 non-null    object \n",
      " 8   embark_town         627 non-null    object \n",
      " 9   alone               627 non-null    object \n",
      "dtypes: float64(2), int64(3), object(5)\n",
      "memory usage: 49.1+ KB\n"
     ]
    }
   ],
   "source": [
    "df.info()"
   ]
  },
  {
   "cell_type": "code",
   "execution_count": 50,
   "metadata": {},
   "outputs": [
    {
     "name": "stdout",
     "output_type": "stream",
     "text": [
      "<pandas.core.groupby.generic.DataFrameGroupBy object at 0x000001B5EDEBD670>\n"
     ]
    },
    {
     "data": {
      "text/plain": [
       "survived\n",
       "0    29.960938\n",
       "1    29.110412\n",
       "Name: age, dtype: float64"
      ]
     },
     "execution_count": 50,
     "metadata": {},
     "output_type": "execute_result"
    }
   ],
   "source": [
    "#group by\n",
    "#The group by function needs to be paired with some sort of operation that we want to apply to each group, such as calculating an aggregate statistic such as \n",
    "#mean, median, sum \n",
    "\n",
    "#this will retrun a group by data farme object\n",
    "print(df.groupby('age'))\n",
    "\n",
    "#i am grouping by survived and then getting the mean age for each group\n",
    "df.groupby('survived')['age'].mean()\n"
   ]
  },
  {
   "cell_type": "code",
   "execution_count": 51,
   "metadata": {},
   "outputs": [
    {
     "data": {
      "text/html": [
       "<div>\n",
       "<style scoped>\n",
       "    .dataframe tbody tr th:only-of-type {\n",
       "        vertical-align: middle;\n",
       "    }\n",
       "\n",
       "    .dataframe tbody tr th {\n",
       "        vertical-align: top;\n",
       "    }\n",
       "\n",
       "    .dataframe thead th {\n",
       "        text-align: right;\n",
       "    }\n",
       "</style>\n",
       "<table border=\"1\" class=\"dataframe\">\n",
       "  <thead>\n",
       "    <tr style=\"text-align: right;\">\n",
       "      <th></th>\n",
       "      <th>Sale_Amount</th>\n",
       "    </tr>\n",
       "  </thead>\n",
       "  <tbody>\n",
       "    <tr>\n",
       "      <th>2017-06-18</th>\n",
       "      <td>43312</td>\n",
       "    </tr>\n",
       "    <tr>\n",
       "      <th>2017-06-25</th>\n",
       "      <td>100457</td>\n",
       "    </tr>\n",
       "    <tr>\n",
       "      <th>2017-07-02</th>\n",
       "      <td>101117</td>\n",
       "    </tr>\n",
       "    <tr>\n",
       "      <th>2017-07-09</th>\n",
       "      <td>100315</td>\n",
       "    </tr>\n",
       "    <tr>\n",
       "      <th>2017-07-16</th>\n",
       "      <td>100866</td>\n",
       "    </tr>\n",
       "    <tr>\n",
       "      <th>2017-07-23</th>\n",
       "      <td>53967</td>\n",
       "    </tr>\n",
       "  </tbody>\n",
       "</table>\n",
       "</div>"
      ],
      "text/plain": [
       "            Sale_Amount\n",
       "2017-06-18        43312\n",
       "2017-06-25       100457\n",
       "2017-07-02       101117\n",
       "2017-07-09       100315\n",
       "2017-07-16       100866\n",
       "2017-07-23        53967"
      ]
     },
     "execution_count": 51,
     "metadata": {},
     "output_type": "execute_result"
    }
   ],
   "source": [
    "#if my goal is to group individual rows by time periods I need to use the resample function\n",
    "\n",
    "date_index = pd.date_range('06/16/2017', periods=100000, freq='30S')\n",
    "\n",
    "df = pd.DataFrame(index = date_index)\n",
    "\n",
    "df['Sale_Amount'] = np.random.randint(1, 10, 100000)\n",
    "\n",
    "#What this function does is groupby by the date range chosen (week) and then sums the feature data with it\n",
    "#grouping the rows by a wide array of time periods (offsets) and then calculated a sum statistic on each time group\n",
    "df.resample('W').sum()"
   ]
  },
  {
   "cell_type": "code",
   "execution_count": 54,
   "metadata": {},
   "outputs": [
    {
     "data": {
      "text/html": [
       "<div>\n",
       "<style scoped>\n",
       "    .dataframe tbody tr th:only-of-type {\n",
       "        vertical-align: middle;\n",
       "    }\n",
       "\n",
       "    .dataframe tbody tr th {\n",
       "        vertical-align: top;\n",
       "    }\n",
       "\n",
       "    .dataframe thead th {\n",
       "        text-align: right;\n",
       "    }\n",
       "</style>\n",
       "<table border=\"1\" class=\"dataframe\">\n",
       "  <thead>\n",
       "    <tr style=\"text-align: right;\">\n",
       "      <th></th>\n",
       "      <th>Sale_Amount</th>\n",
       "    </tr>\n",
       "  </thead>\n",
       "  <tbody>\n",
       "    <tr>\n",
       "      <th>2017-06-18</th>\n",
       "      <td>5.012963</td>\n",
       "    </tr>\n",
       "    <tr>\n",
       "      <th>2017-07-02</th>\n",
       "      <td>4.999355</td>\n",
       "    </tr>\n",
       "    <tr>\n",
       "      <th>2017-07-16</th>\n",
       "      <td>4.989608</td>\n",
       "    </tr>\n",
       "    <tr>\n",
       "      <th>2017-07-30</th>\n",
       "      <td>5.034235</td>\n",
       "    </tr>\n",
       "  </tbody>\n",
       "</table>\n",
       "</div>"
      ],
      "text/plain": [
       "            Sale_Amount\n",
       "2017-06-18     5.012963\n",
       "2017-07-02     4.999355\n",
       "2017-07-16     4.989608\n",
       "2017-07-30     5.034235"
      ]
     },
     "execution_count": 54,
     "metadata": {},
     "output_type": "execute_result"
    }
   ],
   "source": [
    "df.resample('2W').mean()"
   ]
  },
  {
   "cell_type": "code",
   "execution_count": 55,
   "metadata": {},
   "outputs": [
    {
     "data": {
      "text/html": [
       "<div>\n",
       "<style scoped>\n",
       "    .dataframe tbody tr th:only-of-type {\n",
       "        vertical-align: middle;\n",
       "    }\n",
       "\n",
       "    .dataframe tbody tr th {\n",
       "        vertical-align: top;\n",
       "    }\n",
       "\n",
       "    .dataframe thead th {\n",
       "        text-align: right;\n",
       "    }\n",
       "</style>\n",
       "<table border=\"1\" class=\"dataframe\">\n",
       "  <thead>\n",
       "    <tr style=\"text-align: right;\">\n",
       "      <th></th>\n",
       "      <th>Sale_Amount</th>\n",
       "    </tr>\n",
       "  </thead>\n",
       "  <tbody>\n",
       "    <tr>\n",
       "      <th>2017-06-30</th>\n",
       "      <td>4.997755</td>\n",
       "    </tr>\n",
       "    <tr>\n",
       "      <th>2017-07-31</th>\n",
       "      <td>5.002306</td>\n",
       "    </tr>\n",
       "  </tbody>\n",
       "</table>\n",
       "</div>"
      ],
      "text/plain": [
       "            Sale_Amount\n",
       "2017-06-30     4.997755\n",
       "2017-07-31     5.002306"
      ]
     },
     "execution_count": 55,
     "metadata": {},
     "output_type": "execute_result"
    }
   ],
   "source": [
    "df.resample('M').mean()"
   ]
  },
  {
   "cell_type": "code",
   "execution_count": 56,
   "metadata": {},
   "outputs": [
    {
     "data": {
      "text/html": [
       "<div>\n",
       "<style scoped>\n",
       "    .dataframe tbody tr th:only-of-type {\n",
       "        vertical-align: middle;\n",
       "    }\n",
       "\n",
       "    .dataframe tbody tr th {\n",
       "        vertical-align: top;\n",
       "    }\n",
       "\n",
       "    .dataframe thead th {\n",
       "        text-align: right;\n",
       "    }\n",
       "</style>\n",
       "<table border=\"1\" class=\"dataframe\">\n",
       "  <thead>\n",
       "    <tr style=\"text-align: right;\">\n",
       "      <th></th>\n",
       "      <th>Sale_Amount</th>\n",
       "    </tr>\n",
       "  </thead>\n",
       "  <tbody>\n",
       "    <tr>\n",
       "      <th>2017-06-30</th>\n",
       "      <td>43200</td>\n",
       "    </tr>\n",
       "    <tr>\n",
       "      <th>2017-07-31</th>\n",
       "      <td>56800</td>\n",
       "    </tr>\n",
       "  </tbody>\n",
       "</table>\n",
       "</div>"
      ],
      "text/plain": [
       "            Sale_Amount\n",
       "2017-06-30        43200\n",
       "2017-07-31        56800"
      ]
     },
     "execution_count": 56,
     "metadata": {},
     "output_type": "execute_result"
    }
   ],
   "source": [
    "df.resample('M').count() #by default is returning the right edge of the time group aka the last date in the time group"
   ]
  },
  {
   "cell_type": "code",
   "execution_count": 59,
   "metadata": {
    "scrolled": true
   },
   "outputs": [
    {
     "data": {
      "text/html": [
       "<div>\n",
       "<style scoped>\n",
       "    .dataframe tbody tr th:only-of-type {\n",
       "        vertical-align: middle;\n",
       "    }\n",
       "\n",
       "    .dataframe tbody tr th {\n",
       "        vertical-align: top;\n",
       "    }\n",
       "\n",
       "    .dataframe thead th {\n",
       "        text-align: right;\n",
       "    }\n",
       "</style>\n",
       "<table border=\"1\" class=\"dataframe\">\n",
       "  <thead>\n",
       "    <tr style=\"text-align: right;\">\n",
       "      <th></th>\n",
       "      <th>Sale_Amount</th>\n",
       "    </tr>\n",
       "  </thead>\n",
       "  <tbody>\n",
       "    <tr>\n",
       "      <th>2017-05-31</th>\n",
       "      <td>43200</td>\n",
       "    </tr>\n",
       "    <tr>\n",
       "      <th>2017-06-30</th>\n",
       "      <td>56800</td>\n",
       "    </tr>\n",
       "  </tbody>\n",
       "</table>\n",
       "</div>"
      ],
      "text/plain": [
       "            Sale_Amount\n",
       "2017-05-31        43200\n",
       "2017-06-30        56800"
      ]
     },
     "execution_count": 59,
     "metadata": {},
     "output_type": "execute_result"
    }
   ],
   "source": [
    "df.resample('M', label='left').count() #using the label left parameter to return the left edge of the time group aka the first date in the\n",
    "#time group as the label"
   ]
  },
  {
   "cell_type": "code",
   "execution_count": 63,
   "metadata": {},
   "outputs": [
    {
     "data": {
      "text/plain": [
       "Index(['survived', 'sex', 'age', 'n_siblings_spouses', 'parch', 'fare',\n",
       "       'class', 'deck', 'embark_town', 'alone'],\n",
       "      dtype='object')"
      ]
     },
     "execution_count": 63,
     "metadata": {},
     "output_type": "execute_result"
    }
   ],
   "source": [
    "df.columns"
   ]
  },
  {
   "cell_type": "code",
   "execution_count": 69,
   "metadata": {},
   "outputs": [
    {
     "name": "stdout",
     "output_type": "stream",
     "text": [
      "7.25\n",
      "71.2833\n",
      "\n",
      "\n",
      "7.25\n",
      "71.2833\n",
      "\n",
      "\n",
      "725.0\n",
      "7128.33\n",
      "792.5\n"
     ]
    },
    {
     "data": {
      "text/plain": [
       "[None, None, None]"
      ]
     },
     "execution_count": 69,
     "metadata": {},
     "output_type": "execute_result"
    }
   ],
   "source": [
    "#iterating over every element in a column and applying an action. just quick practice for slicing\n",
    "df = pd.read_csv(url)\n",
    "\n",
    "for x in df['fare'].iloc[0:2]:\n",
    "    print(x)\n",
    "\n",
    "print('\\n')\n",
    "    \n",
    "[print(x) for x in df['fare'].iloc[0:2]]\n",
    "\n",
    "print('\\n')\n",
    "\n",
    "[print(x * 100) for x in df['fare'][:3]]"
   ]
  },
  {
   "cell_type": "code",
   "execution_count": 72,
   "metadata": {},
   "outputs": [
    {
     "data": {
      "text/plain": [
       "0      725.00\n",
       "1     7128.33\n",
       "2      792.50\n",
       "3     5310.00\n",
       "4      845.83\n",
       "       ...   \n",
       "95    3007.08\n",
       "96    1300.00\n",
       "97     775.00\n",
       "98     714.17\n",
       "99     697.50\n",
       "Name: fare, Length: 100, dtype: float64"
      ]
     },
     "execution_count": 72,
     "metadata": {},
     "output_type": "execute_result"
    }
   ],
   "source": [
    "#Applying a function over all elements in a column \n",
    "\n",
    "df = pd.read_csv(url)\n",
    "\n",
    "def mult100(x):\n",
    "    return x * 100\n",
    "\n",
    "df['fare'].apply(mult100)[:100]\n",
    "\n",
    "#apply is a common way to write a function to performa  useful operation and mapping it to every element in a column"
   ]
  },
  {
   "cell_type": "code",
   "execution_count": 75,
   "metadata": {},
   "outputs": [
    {
     "data": {
      "text/html": [
       "<div>\n",
       "<style scoped>\n",
       "    .dataframe tbody tr th:only-of-type {\n",
       "        vertical-align: middle;\n",
       "    }\n",
       "\n",
       "    .dataframe tbody tr th {\n",
       "        vertical-align: top;\n",
       "    }\n",
       "\n",
       "    .dataframe thead th {\n",
       "        text-align: right;\n",
       "    }\n",
       "</style>\n",
       "<table border=\"1\" class=\"dataframe\">\n",
       "  <thead>\n",
       "    <tr style=\"text-align: right;\">\n",
       "      <th></th>\n",
       "      <th>survived</th>\n",
       "      <th>age</th>\n",
       "      <th>n_siblings_spouses</th>\n",
       "      <th>parch</th>\n",
       "      <th>fare</th>\n",
       "    </tr>\n",
       "    <tr>\n",
       "      <th>sex</th>\n",
       "      <th></th>\n",
       "      <th></th>\n",
       "      <th></th>\n",
       "      <th></th>\n",
       "      <th></th>\n",
       "    </tr>\n",
       "  </thead>\n",
       "  <tbody>\n",
       "    <tr>\n",
       "      <th>female</th>\n",
       "      <td>0.778802</td>\n",
       "      <td>28.652074</td>\n",
       "      <td>0.654378</td>\n",
       "      <td>0.62212</td>\n",
       "      <td>47.118741</td>\n",
       "    </tr>\n",
       "    <tr>\n",
       "      <th>male</th>\n",
       "      <td>0.180488</td>\n",
       "      <td>30.149585</td>\n",
       "      <td>0.487805</td>\n",
       "      <td>0.25122</td>\n",
       "      <td>27.646044</td>\n",
       "    </tr>\n",
       "  </tbody>\n",
       "</table>\n",
       "</div>"
      ],
      "text/plain": [
       "        survived        age  n_siblings_spouses    parch       fare\n",
       "sex                                                                \n",
       "female  0.778802  28.652074            0.654378  0.62212  47.118741\n",
       "male    0.180488  30.149585            0.487805  0.25122  27.646044"
      ]
     },
     "execution_count": 75,
     "metadata": {},
     "output_type": "execute_result"
    }
   ],
   "source": [
    "#combining group by and apply\n",
    "\n",
    "df = pd.read_csv(url)\n",
    "\n",
    "df.groupby('sex').apply(lambda x: x.mean())"
   ]
  },
  {
   "cell_type": "code",
   "execution_count": 88,
   "metadata": {},
   "outputs": [],
   "source": [
    "#concatenating two dataframes \n",
    "#going to use concat with axis = 0 to concatenate along the row axis\n",
    "#axis = 1 means columns\n",
    "#axis = 0 usually means row\n",
    "\n",
    "df_a = {\n",
    "    'id' : ['1', '2', '3'],\n",
    "    'first' : ['Alex', 'Amy', 'Allen'],\n",
    "    'last' : ['Handerson', 'Hackerman', 'Hali']\n",
    "}\n",
    "\n",
    "df_a = pd.DataFrame(df_a, columns = ['id', 'first', 'last'])\n",
    "\n",
    "df_b = {\n",
    "    'id' : ['4', '5', '6'],\n",
    "    'first' : ['Billy', 'Brian', 'Bran'],\n",
    "    'last' : ['Bonder', 'Black', 'Balwner']\n",
    "}\n",
    "\n",
    "df_b = pd.DataFrame(df_b, columns = ['id', 'first', 'last'])\n",
    "\n",
    "concated_df = pd.concat([df_a, df_b], axis = 0)\n",
    "\n",
    "\n",
    "#concatenating by the columns\n",
    "#concated_df_columns = pd.concat([df_a, df_b], axis=1)"
   ]
  },
  {
   "cell_type": "code",
   "execution_count": 89,
   "metadata": {},
   "outputs": [
    {
     "data": {
      "text/html": [
       "<div>\n",
       "<style scoped>\n",
       "    .dataframe tbody tr th:only-of-type {\n",
       "        vertical-align: middle;\n",
       "    }\n",
       "\n",
       "    .dataframe tbody tr th {\n",
       "        vertical-align: top;\n",
       "    }\n",
       "\n",
       "    .dataframe thead th {\n",
       "        text-align: right;\n",
       "    }\n",
       "</style>\n",
       "<table border=\"1\" class=\"dataframe\">\n",
       "  <thead>\n",
       "    <tr style=\"text-align: right;\">\n",
       "      <th></th>\n",
       "      <th>id</th>\n",
       "      <th>first</th>\n",
       "      <th>last</th>\n",
       "    </tr>\n",
       "  </thead>\n",
       "  <tbody>\n",
       "    <tr>\n",
       "      <th>0</th>\n",
       "      <td>1</td>\n",
       "      <td>Alex</td>\n",
       "      <td>Handerson</td>\n",
       "    </tr>\n",
       "    <tr>\n",
       "      <th>1</th>\n",
       "      <td>2</td>\n",
       "      <td>Amy</td>\n",
       "      <td>Hackerman</td>\n",
       "    </tr>\n",
       "    <tr>\n",
       "      <th>2</th>\n",
       "      <td>3</td>\n",
       "      <td>Allen</td>\n",
       "      <td>Hali</td>\n",
       "    </tr>\n",
       "    <tr>\n",
       "      <th>3</th>\n",
       "      <td>10</td>\n",
       "      <td>Chris</td>\n",
       "      <td>Chillon</td>\n",
       "    </tr>\n",
       "  </tbody>\n",
       "</table>\n",
       "</div>"
      ],
      "text/plain": [
       "   id  first       last\n",
       "0   1   Alex  Handerson\n",
       "1   2    Amy  Hackerman\n",
       "2   3  Allen       Hali\n",
       "3  10  Chris    Chillon"
      ]
     },
     "execution_count": 89,
     "metadata": {},
     "output_type": "execute_result"
    }
   ],
   "source": [
    "#appending new row to a dataframe\n",
    "row = pd.Series([10, 'Chris', 'Chillon'], index=['id', 'first', 'last'])\n",
    "df_a.append(row, ignore_index=True)"
   ]
  },
  {
   "cell_type": "code",
   "execution_count": 94,
   "metadata": {
    "scrolled": true
   },
   "outputs": [
    {
     "data": {
      "text/html": [
       "<div>\n",
       "<style scoped>\n",
       "    .dataframe tbody tr th:only-of-type {\n",
       "        vertical-align: middle;\n",
       "    }\n",
       "\n",
       "    .dataframe tbody tr th {\n",
       "        vertical-align: top;\n",
       "    }\n",
       "\n",
       "    .dataframe thead th {\n",
       "        text-align: right;\n",
       "    }\n",
       "</style>\n",
       "<table border=\"1\" class=\"dataframe\">\n",
       "  <thead>\n",
       "    <tr style=\"text-align: right;\">\n",
       "      <th></th>\n",
       "      <th>employee_id</th>\n",
       "      <th>Name</th>\n",
       "      <th>total_sales</th>\n",
       "    </tr>\n",
       "  </thead>\n",
       "  <tbody>\n",
       "    <tr>\n",
       "      <th>0</th>\n",
       "      <td>3</td>\n",
       "      <td>Alice Bees</td>\n",
       "      <td>23456</td>\n",
       "    </tr>\n",
       "    <tr>\n",
       "      <th>1</th>\n",
       "      <td>4</td>\n",
       "      <td>Tim Horton</td>\n",
       "      <td>2512</td>\n",
       "    </tr>\n",
       "  </tbody>\n",
       "</table>\n",
       "</div>"
      ],
      "text/plain": [
       "  employee_id        Name  total_sales\n",
       "0           3  Alice Bees        23456\n",
       "1           4  Tim Horton         2512"
      ]
     },
     "execution_count": 94,
     "metadata": {},
     "output_type": "execute_result"
    }
   ],
   "source": [
    "#Merging two data frames\n",
    "\n",
    "#inner join. merge defaults to inner joins.\n",
    "\n",
    "employee_data = {'employee_id' : ['1', '2', '3', '4'],\n",
    "                'Name' : ['Amy Jones', 'Allen Keys', 'Alice Bees', 'Tim Horton']}\n",
    "\n",
    "df_emp = pd.DataFrame(employee_data, columns=['employee_id', 'Name'])\n",
    "\n",
    "sales_data = {'employee_id' : ['3', '4', '5', '6'],\n",
    "             'total_sales' : [23456, 2512, 2345, 1455]}\n",
    "\n",
    "df_sales = pd.DataFrame(sales_data, columns=['employee_id', 'total_sales'])\n",
    "\n",
    "#defaults to inner join\n",
    "pd.merge(df_emp, df_sales, on='employee_id')"
   ]
  },
  {
   "cell_type": "code",
   "execution_count": 95,
   "metadata": {},
   "outputs": [
    {
     "data": {
      "text/html": [
       "<div>\n",
       "<style scoped>\n",
       "    .dataframe tbody tr th:only-of-type {\n",
       "        vertical-align: middle;\n",
       "    }\n",
       "\n",
       "    .dataframe tbody tr th {\n",
       "        vertical-align: top;\n",
       "    }\n",
       "\n",
       "    .dataframe thead th {\n",
       "        text-align: right;\n",
       "    }\n",
       "</style>\n",
       "<table border=\"1\" class=\"dataframe\">\n",
       "  <thead>\n",
       "    <tr style=\"text-align: right;\">\n",
       "      <th></th>\n",
       "      <th>employee_id</th>\n",
       "      <th>Name</th>\n",
       "      <th>total_sales</th>\n",
       "    </tr>\n",
       "  </thead>\n",
       "  <tbody>\n",
       "    <tr>\n",
       "      <th>0</th>\n",
       "      <td>1</td>\n",
       "      <td>Amy Jones</td>\n",
       "      <td>NaN</td>\n",
       "    </tr>\n",
       "    <tr>\n",
       "      <th>1</th>\n",
       "      <td>2</td>\n",
       "      <td>Allen Keys</td>\n",
       "      <td>NaN</td>\n",
       "    </tr>\n",
       "    <tr>\n",
       "      <th>2</th>\n",
       "      <td>3</td>\n",
       "      <td>Alice Bees</td>\n",
       "      <td>23456.0</td>\n",
       "    </tr>\n",
       "    <tr>\n",
       "      <th>3</th>\n",
       "      <td>4</td>\n",
       "      <td>Tim Horton</td>\n",
       "      <td>2512.0</td>\n",
       "    </tr>\n",
       "    <tr>\n",
       "      <th>4</th>\n",
       "      <td>5</td>\n",
       "      <td>NaN</td>\n",
       "      <td>2345.0</td>\n",
       "    </tr>\n",
       "    <tr>\n",
       "      <th>5</th>\n",
       "      <td>6</td>\n",
       "      <td>NaN</td>\n",
       "      <td>1455.0</td>\n",
       "    </tr>\n",
       "  </tbody>\n",
       "</table>\n",
       "</div>"
      ],
      "text/plain": [
       "  employee_id        Name  total_sales\n",
       "0           1   Amy Jones          NaN\n",
       "1           2  Allen Keys          NaN\n",
       "2           3  Alice Bees      23456.0\n",
       "3           4  Tim Horton       2512.0\n",
       "4           5         NaN       2345.0\n",
       "5           6         NaN       1455.0"
      ]
     },
     "execution_count": 95,
     "metadata": {},
     "output_type": "execute_result"
    }
   ],
   "source": [
    "#specifiying outer with how parameter. is a union of a join\n",
    "pd.merge(df_emp, df_sales, on='employee_id', how='outer')"
   ]
  },
  {
   "cell_type": "code",
   "execution_count": 96,
   "metadata": {},
   "outputs": [
    {
     "data": {
      "text/html": [
       "<div>\n",
       "<style scoped>\n",
       "    .dataframe tbody tr th:only-of-type {\n",
       "        vertical-align: middle;\n",
       "    }\n",
       "\n",
       "    .dataframe tbody tr th {\n",
       "        vertical-align: top;\n",
       "    }\n",
       "\n",
       "    .dataframe thead th {\n",
       "        text-align: right;\n",
       "    }\n",
       "</style>\n",
       "<table border=\"1\" class=\"dataframe\">\n",
       "  <thead>\n",
       "    <tr style=\"text-align: right;\">\n",
       "      <th></th>\n",
       "      <th>employee_id</th>\n",
       "      <th>Name</th>\n",
       "      <th>total_sales</th>\n",
       "    </tr>\n",
       "  </thead>\n",
       "  <tbody>\n",
       "    <tr>\n",
       "      <th>0</th>\n",
       "      <td>1</td>\n",
       "      <td>Amy Jones</td>\n",
       "      <td>NaN</td>\n",
       "    </tr>\n",
       "    <tr>\n",
       "      <th>1</th>\n",
       "      <td>2</td>\n",
       "      <td>Allen Keys</td>\n",
       "      <td>NaN</td>\n",
       "    </tr>\n",
       "    <tr>\n",
       "      <th>2</th>\n",
       "      <td>3</td>\n",
       "      <td>Alice Bees</td>\n",
       "      <td>23456.0</td>\n",
       "    </tr>\n",
       "    <tr>\n",
       "      <th>3</th>\n",
       "      <td>4</td>\n",
       "      <td>Tim Horton</td>\n",
       "      <td>2512.0</td>\n",
       "    </tr>\n",
       "  </tbody>\n",
       "</table>\n",
       "</div>"
      ],
      "text/plain": [
       "  employee_id        Name  total_sales\n",
       "0           1   Amy Jones          NaN\n",
       "1           2  Allen Keys          NaN\n",
       "2           3  Alice Bees      23456.0\n",
       "3           4  Tim Horton       2512.0"
      ]
     },
     "execution_count": 96,
     "metadata": {},
     "output_type": "execute_result"
    }
   ],
   "source": [
    "#left join\n",
    "pd.merge(df_emp, df_sales, on='employee_id', how='left')"
   ]
  },
  {
   "cell_type": "code",
   "execution_count": 97,
   "metadata": {},
   "outputs": [
    {
     "data": {
      "text/html": [
       "<div>\n",
       "<style scoped>\n",
       "    .dataframe tbody tr th:only-of-type {\n",
       "        vertical-align: middle;\n",
       "    }\n",
       "\n",
       "    .dataframe tbody tr th {\n",
       "        vertical-align: top;\n",
       "    }\n",
       "\n",
       "    .dataframe thead th {\n",
       "        text-align: right;\n",
       "    }\n",
       "</style>\n",
       "<table border=\"1\" class=\"dataframe\">\n",
       "  <thead>\n",
       "    <tr style=\"text-align: right;\">\n",
       "      <th></th>\n",
       "      <th>employee_id</th>\n",
       "      <th>Name</th>\n",
       "      <th>total_sales</th>\n",
       "    </tr>\n",
       "  </thead>\n",
       "  <tbody>\n",
       "    <tr>\n",
       "      <th>0</th>\n",
       "      <td>3</td>\n",
       "      <td>Alice Bees</td>\n",
       "      <td>23456</td>\n",
       "    </tr>\n",
       "    <tr>\n",
       "      <th>1</th>\n",
       "      <td>4</td>\n",
       "      <td>Tim Horton</td>\n",
       "      <td>2512</td>\n",
       "    </tr>\n",
       "  </tbody>\n",
       "</table>\n",
       "</div>"
      ],
      "text/plain": [
       "  employee_id        Name  total_sales\n",
       "0           3  Alice Bees        23456\n",
       "1           4  Tim Horton         2512"
      ]
     },
     "execution_count": 97,
     "metadata": {},
     "output_type": "execute_result"
    }
   ],
   "source": [
    "#specifying columsn to join on \n",
    "pd.merge(df_emp, df_sales, left_on='employee_id', right_on='employee_id')"
   ]
  },
  {
   "cell_type": "code",
   "execution_count": null,
   "metadata": {},
   "outputs": [],
   "source": [
    "#pd.merge(df_emp, df_sales, left_index=True, right_index=True)\n",
    "#an example of how to do a merge but by specifying the indices to do the join on"
   ]
  },
  {
   "cell_type": "code",
   "execution_count": null,
   "metadata": {},
   "outputs": [],
   "source": [
    "#3 aspects to specify any merge operation:\n",
    "#1.) dataframes to merge\n",
    "#2.) name of columns to merge on\n",
    "#3.) type of merge to conduct\n",
    "    #specified by how parameter\n",
    "    #four types of main joins\n",
    "        #Inner ( returns only rows that match in both frames)\n",
    "        #outer (returns all rows in both frames. if a row exists in one but not in the other fill in nan for missing values. Union)\n",
    "        #left: returns all rows from left data frame but only rows from the right that matched with the left data frame. fill in nan for missing\n",
    "        #right: retrurns all rows from right data fram ebut only rows from left that mathc with right. fill in nan for missing vlaues"
   ]
  },
  {
   "cell_type": "markdown",
   "metadata": {},
   "source": [
    "# Chapter 4: \n",
    "## Handling Numerical Data"
   ]
  },
  {
   "cell_type": "code",
   "execution_count": null,
   "metadata": {},
   "outputs": [],
   "source": []
  },
  {
   "cell_type": "code",
   "execution_count": null,
   "metadata": {},
   "outputs": [],
   "source": []
  }
 ],
 "metadata": {
  "kernelspec": {
   "display_name": "Python 3",
   "language": "python",
   "name": "python3"
  },
  "language_info": {
   "codemirror_mode": {
    "name": "ipython",
    "version": 3
   },
   "file_extension": ".py",
   "mimetype": "text/x-python",
   "name": "python",
   "nbconvert_exporter": "python",
   "pygments_lexer": "ipython3",
   "version": "3.8.5"
  }
 },
 "nbformat": 4,
 "nbformat_minor": 4
}
