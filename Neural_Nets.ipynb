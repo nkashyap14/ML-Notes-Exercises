{
 "cells": [
  {
   "cell_type": "code",
   "execution_count": 3,
   "metadata": {},
   "outputs": [],
   "source": [
    "#perceptron is a single node in a bigger neural network. base unit of a neural network"
   ]
  },
  {
   "cell_type": "code",
   "execution_count": 4,
   "metadata": {},
   "outputs": [],
   "source": [
    "import numpy as np\n",
    "import math"
   ]
  },
  {
   "cell_type": "code",
   "execution_count": 21,
   "metadata": {},
   "outputs": [],
   "source": [
    "class Perceptron:\n",
    "    def __init__(self, n_inputs):\n",
    "        self.weights = np.random.rand(len(n_inputs))\n",
    "        self.bias = 1\n",
    "        \n",
    "    def sigmoid(self, x):\n",
    "        return 1 / (1 + np.exp(-x))\n",
    "    \n",
    "    def step(self, inputs):\n",
    "        if(len(inputs) != len(self.weights)):\n",
    "            return -1000\n",
    "        weighted_sum = np.dot(self.weights, inputs) + self.bias\n",
    "        return sigmoid(weighted_sum)\n",
    "    \n",
    "    def error(self, inp, exp_out):\n",
    "        pred = self.step()\n",
    "        if round(pred) == exp_out:\n",
    "            return 0\n",
    "        else:\n",
    "            return np.abs(label - pred)\n",
    "        \n",
    "    def totalError(features, labels):\n",
    "        total = 0\n",
    "        if(len(features) != len(labels)):\n",
    "            return -999\n",
    "        for x in range(len(features)):\n",
    "            if len(x) != len(self.weights):\n",
    "                return -1000\n",
    "            total += error(features[x], labels[x])"
   ]
  },
  {
   "cell_type": "code",
   "execution_count": 22,
   "metadata": {},
   "outputs": [
    {
     "name": "stdout",
     "output_type": "stream",
     "text": [
      "[0.5474719  0.31404085 0.92842974 0.08358573 0.94510356 0.73332752\n",
      " 0.98844238 0.75542487 0.97404286 0.62522496]\n"
     ]
    }
   ],
   "source": [
    "p = Perceptron([23, 32432, 345,41, 214, 431, .234, 53421,431.324,1])\n",
    "print(p.weights)"
   ]
  },
  {
   "cell_type": "code",
   "execution_count": null,
   "metadata": {},
   "outputs": [],
   "source": []
  }
 ],
 "metadata": {
  "kernelspec": {
   "display_name": "Python 3",
   "language": "python",
   "name": "python3"
  },
  "language_info": {
   "codemirror_mode": {
    "name": "ipython",
    "version": 3
   },
   "file_extension": ".py",
   "mimetype": "text/x-python",
   "name": "python",
   "nbconvert_exporter": "python",
   "pygments_lexer": "ipython3",
   "version": "3.8.5"
  }
 },
 "nbformat": 4,
 "nbformat_minor": 4
}
